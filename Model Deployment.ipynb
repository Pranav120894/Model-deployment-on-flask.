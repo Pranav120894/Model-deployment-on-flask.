{
 "cells": [
  {
   "cell_type": "code",
   "execution_count": 1,
   "id": "45d9e8e3",
   "metadata": {},
   "outputs": [],
   "source": [
    "import numpy as np\n",
    "\n",
    "import pandas as pd\n",
    "\n",
    "from sklearn.model_selection import train_test_split\n",
    "\n",
    "from sklearn.linear_model import LinearRegression\n",
    "\n",
    "from flask import Flask, request, jsonify, render_template\n",
    "\n",
    "import pickle\n",
    "\n",
    "import json"
   ]
  },
  {
   "cell_type": "code",
   "execution_count": 3,
   "id": "724eb969",
   "metadata": {},
   "outputs": [],
   "source": [
    "salary_data = pd.read_csv(r'C:\\Users\\Sony\\Downloads\\Salary_Data.csv')\n",
    "X = salary_data.iloc[:, :-1].values\n",
    "y = salary_data.iloc[:, 1].values"
   ]
  },
  {
   "cell_type": "code",
   "execution_count": 4,
   "id": "da1de058",
   "metadata": {},
   "outputs": [],
   "source": [
    "X_train, X_test, y_train, y_test = train_test_split(X, y, test_size = 0.33, random_state = 0)"
   ]
  },
  {
   "cell_type": "code",
   "execution_count": 5,
   "id": "31a16aaf",
   "metadata": {},
   "outputs": [
    {
     "name": "stdout",
     "output_type": "stream",
     "text": [
      "[ 40835.10590871 123079.39940819  65134.55626083  63265.36777221\n",
      " 115602.64545369 108125.8914992  116537.23969801  64199.96201652\n",
      "  76349.68719258 100649.1375447 ]\n"
     ]
    }
   ],
   "source": [
    "regressor = LinearRegression()\n",
    "\n",
    "regressor.fit(X_train, y_train)\n",
    "\n",
    "y_pred = regressor.predict(X_test)\n",
    "\n",
    "print(y_pred)"
   ]
  },
  {
   "cell_type": "code",
   "execution_count": 6,
   "id": "6425b417",
   "metadata": {},
   "outputs": [
    {
     "name": "stdout",
     "output_type": "stream",
     "text": [
      "[43638.88864165]\n"
     ]
    }
   ],
   "source": [
    "#Save the model in disk\n",
    "\n",
    "pickle.dump(regressor, open('model.pkl','wb')) \n",
    "\n",
    "model = pickle.load(open('model.pkl','rb'))\n",
    "\n",
    "print(model.predict([[1.8]]))"
   ]
  },
  {
   "cell_type": "code",
   "execution_count": 7,
   "id": "efdce441",
   "metadata": {},
   "outputs": [],
   "source": [
    "#Deployment of Model\n",
    "\n",
    "app = Flask(__name__)\n",
    "\n",
    "model = pickle.load(open('model.pkl','rb'))"
   ]
  },
  {
   "cell_type": "code",
   "execution_count": 8,
   "id": "7de734c8",
   "metadata": {},
   "outputs": [],
   "source": [
    "@app.route(\"/\")\n",
    "def home():\n",
    "    return render_template(\"index.html\")"
   ]
  },
  {
   "cell_type": "code",
   "execution_count": 9,
   "id": "49a9290d",
   "metadata": {},
   "outputs": [],
   "source": [
    "@app.route('/',methods=['POST'])\n",
    "\n",
    "def predict():\n",
    "    \n",
    "    data = request.get_json(force=True)\n",
    "    \n",
    "    prediction = model.predict([[np.array(data['exp'])]])\n",
    "    \n",
    "    output = prediction[0]\n",
    "    \n",
    "    return jsonify(output)"
   ]
  },
  {
   "cell_type": "code",
   "execution_count": null,
   "id": "00bbfffb",
   "metadata": {},
   "outputs": [
    {
     "name": "stdout",
     "output_type": "stream",
     "text": [
      " * Serving Flask app \"__main__\" (lazy loading)\n",
      " * Environment: production\n",
      "\u001b[31m   WARNING: This is a development server. Do not use it in a production deployment.\u001b[0m\n",
      "\u001b[2m   Use a production WSGI server instead.\u001b[0m\n",
      " * Debug mode: off\n"
     ]
    },
    {
     "name": "stderr",
     "output_type": "stream",
     "text": [
      " * Running on http://127.0.0.1:5000/ (Press CTRL+C to quit)\n"
     ]
    }
   ],
   "source": [
    "if __name__ == '__main__':\n",
    "    \n",
    "    app.run(port=5000)"
   ]
  },
  {
   "cell_type": "code",
   "execution_count": null,
   "id": "ac847e2d",
   "metadata": {},
   "outputs": [],
   "source": []
  }
 ],
 "metadata": {
  "kernelspec": {
   "display_name": "Python 3 (ipykernel)",
   "language": "python",
   "name": "python3"
  },
  "language_info": {
   "codemirror_mode": {
    "name": "ipython",
    "version": 3
   },
   "file_extension": ".py",
   "mimetype": "text/x-python",
   "name": "python",
   "nbconvert_exporter": "python",
   "pygments_lexer": "ipython3",
   "version": "3.9.7"
  }
 },
 "nbformat": 4,
 "nbformat_minor": 5
}
